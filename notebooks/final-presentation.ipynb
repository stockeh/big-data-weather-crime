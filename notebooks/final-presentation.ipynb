{
 "cells": [
  {
   "cell_type": "markdown",
   "metadata": {},
   "source": [
    "$\\newcommand{\\xv}{\\mathbf{x}}\n",
    "\\newcommand{\\Xv}{\\mathbf{X}}\n",
    "\\newcommand{\\yv}{\\mathbf{y}}\n",
    "\\newcommand{\\zv}{\\mathbf{z}}\n",
    "\\newcommand{\\av}{\\mathbf{a}}\n",
    "\\newcommand{\\Wv}{\\mathbf{W}}\n",
    "\\newcommand{\\wv}{\\mathbf{w}}\n",
    "\\newcommand{\\tv}{\\mathbf{t}}\n",
    "\\newcommand{\\Tv}{\\mathbf{T}}\n",
    "\\newcommand{\\muv}{\\boldsymbol{\\mu}}\n",
    "\\newcommand{\\sigmav}{\\boldsymbol{\\sigma}}\n",
    "\\newcommand{\\phiv}{\\boldsymbol{\\phi}}\n",
    "\\newcommand{\\Phiv}{\\boldsymbol{\\Phi}}\n",
    "\\newcommand{\\Sigmav}{\\boldsymbol{\\Sigma}}\n",
    "\\newcommand{\\Lambdav}{\\boldsymbol{\\Lambda}}\n",
    "\\newcommand{\\half}{\\frac{1}{2}}\n",
    "\\newcommand{\\argmax}[1]{\\underset{#1}{\\operatorname{argmax}}}\n",
    "\\newcommand{\\argmin}[1]{\\underset{#1}{\\operatorname{argmin}}}$"
   ]
  },
  {
   "cell_type": "markdown",
   "metadata": {},
   "source": [
    "\n",
    "<h1><center>Weather or Not, There is Crime</center></h1>\n",
    "<center>\n",
    "*Jason Stock, Tom Cavey, Amber Lee*  \n",
    "*Relationships between crime and weather patterns in Chicago*\n",
    "</center>"
   ]
  },
  {
   "cell_type": "code",
   "execution_count": null,
   "metadata": {},
   "outputs": [],
   "source": [
    "import neuralnetworks as nn\n",
    "import mlutils as ml\n",
    "import pandas as pd\n",
    "import numpy as np \n",
    "import random\n",
    "import seaborn as sns\n",
    "import matplotlib.pylab as plt\n",
    "from matplotlib.pyplot import cm\n",
    "import dill\n",
    "\n",
    "class Models:\n",
    "    \n",
    "    trained_nn = []\n",
    "    networks   = []\n",
    "    \n",
    "    def __init__(self, num_districts, networks):\n",
    "        \"\"\"Initialize number of districts and repsective networks\"\"\"\n",
    "        self.num_districts = num_districts\n",
    "        self.networks = networks\n",
    "        \n",
    "    def sampler(self, data, features, targets):\n",
    "        \"\"\"Sample the data to set features, X, and targets, T.\"\"\"\n",
    "        X = data.iloc[:, np.r_[features]]\n",
    "        T = data.iloc[:, np.r_[targets]]\n",
    "        return np.array(X), np.array(T)\n",
    "\n",
    "    def train(self, iterations=100, normalize=True, partition=True):\n",
    "        \"\"\"Train each network and save the trained nnet object to trained_nn\"\"\"\n",
    "        for district in range(self.num_districts):\n",
    "            data = pd.read_csv('../Output/WeeklyOutput/wc'+str(district + 1)+'.csv', sep=',', low_memory=False, \n",
    "            names = ['date', 'dry', 'wet', 'wind', 'humidity', 'district', 'homicide', 'robbery',\n",
    "                     'battery', 'assault', 'burglary', 'theft', 'motor', 'weapons']).iloc[70:]\n",
    "            if normalize:\n",
    "                cols_to_norm = ['dry', 'wet', 'wind', 'humidity']\n",
    "                data[cols_to_norm] = data[cols_to_norm].apply(lambda x: (x - x.min()) / (x.max() - x.min()))\n",
    "\n",
    "            X, T = sampler(data, range(1,5), range(6,14))\n",
    "        \n",
    "            if partition: \n",
    "                train_f = 0.80\n",
    "                Xtrain, Ttrain, _, _ = ml.partition(X, T, (train_f, 1 - train_f))\n",
    "\n",
    "                nnet = nn.NeuralNetwork(Xtrain.shape[1], self.networks[district], Ttrain.shape[1])\n",
    "                nnet.train(Xtrain, Ttrain, iterations)\n",
    "            else:  \n",
    "                nnet = nn.NeuralNetwork(X.shape[1], self.networks[district], T.shape[1]) \n",
    "                nnet.train(X, T, iterations)\n",
    "            \n",
    "            self.trained_nn.append(nnet)\n",
    "    \n",
    "    def use(self, data, return_all=True, district=None):\n",
    "        \"\"\"Prints a table of all or specific district results based off provided data.\n",
    "        The data shall be the weather for the day in the form:\n",
    "        [dry-bulb-temp, wet-bulb-temp, wind-speed, relative-humidity]\"\"\"\n",
    "        results = []\n",
    "        \n",
    "        if return_all:\n",
    "            for i, network in enumerate(self.trained_nn):\n",
    "                Y = np.round(network.use(data)[0])\n",
    "                result = np.insert(Y, 0, i+1)\n",
    "                results.append(result)\n",
    "        elif district is not None:\n",
    "            Y = np.round(self.trained_nn[district - 1].use(data)[0])\n",
    "            results.append(np.insert(Y, 0, district))\n",
    "        else:\n",
    "            print('ERROR, return_all = True, or set to false and specify district number.')\n",
    "        \n",
    "        df = pd.DataFrame(results, columns=['district', 'homicide', 'robbery', 'battery', 'assault',\n",
    "                                            'burglary', 'theft', 'motor', 'weapons']).astype(int)\n",
    "        print(df.to_string(index=False))\n",
    "    \n",
    "def save_dill():\n",
    "    \"\"\"Train Models class with defined networks.\n",
    "    Then save class to a .pickle file\"\"\"\n",
    "    networks = [\n",
    "                [5], # district 1\n",
    "                [5], # district 2\n",
    "                [5], # district 3\n",
    "                [5], # district 4\n",
    "                [5], # district 5\n",
    "                [5], # district 6\n",
    "                [5], # district 7\n",
    "                [5], # district 8\n",
    "                [5], # district 9\n",
    "               ]\n",
    "\n",
    "    M = Models(9, networks)\n",
    "    M.train()\n",
    "    \n",
    "    outfile = open('trained_models.pickle', 'wb')\n",
    "    dill.dump(M, outfile)\n",
    "    outfile.close()\n",
    "    \n",
    "def sampler(data, a, b):\n",
    "    \"\"\"Sample the data to set features, X, and targets, T.\"\"\"\n",
    "    X = data.iloc[:, np.r_[a]]\n",
    "    T = data.iloc[:, np.r_[b]]\n",
    "        \n",
    "    return np.array(X), np.array(T)\n",
    "\n",
    "def get_values(X, T, network, train_f, itr, partition = False):\n",
    "    \"\"\"Get test results and error trace\"\"\"\n",
    "    if partition: \n",
    "        Xtrain, Ttrain, Xtest, T = ml.partition(X, T, (train_f, 1 - train_f))\n",
    "        \n",
    "        nnet = nn.NeuralNetwork(Xtrain.shape[1], network, Ttrain.shape[1])\n",
    "        nnet.train(Xtrain, Ttrain, itr)\n",
    "        Y = nnet.use(Xtest)\n",
    "        \n",
    "    else:  \n",
    "        nnet = nn.NeuralNetwork(X.shape[1], network, T.shape[1]) \n",
    "        nnet.train(X, T, itr)\n",
    "        Y = nnet.use(X)\n",
    "        \n",
    "    return Y, T, nnet.getErrorTrace()\n",
    "\n",
    "def network_test(district='4'):\n",
    "    \"\"\"Display a run with 20 networks - graphing the error output\"\"\"\n",
    "    data = pd.read_csv('../Output/WeeklyOutput/wc'+district+'.csv', sep=',', low_memory=False, \n",
    "            names = ['date', 'dry', 'wet', 'wind', 'humidity', 'district', 'homicide', 'robbery',\n",
    "                     'battery', 'assault', 'burglary', 'theft', 'motor', 'weapons']).iloc[70:]\n",
    "    \n",
    "    cols_to_norm = ['dry', 'wet', 'wind', 'humidity']\n",
    "    data[cols_to_norm] = data[cols_to_norm].apply(lambda x: (x - x.min()) / (x.max() - x.min()))\n",
    "\n",
    "    X, T = sampler(data, range(1, 5), range(6,14))\n",
    "\n",
    "    sns.set_style(\"whitegrid\")\n",
    "\n",
    "    numberItr = 1200\n",
    "    train_f = 0.8\n",
    "    er = []\n",
    "    networks = []\n",
    "    for i in range(20):\n",
    "        a = random.sample(range(1, 100), np.random.randint(1, 6))\n",
    "        Y, _T, error = get_values(X, T, a, train_f, numberItr)\n",
    "        er.append(error)\n",
    "        networks.append(a)\n",
    "        numberItr = int(1.05 * numberItr)\n",
    "\n",
    "    color=iter(cm.rainbow(np.linspace(0,1,20)))\n",
    "    plt.figure(figsize=(18,8))\n",
    "    for i, pl in enumerate(er):\n",
    "        plt.plot(pl, c=next(color), label = 'Network '+str(networks[i]))\n",
    "\n",
    "    plt.xlabel('Iteration')\n",
    "    plt.ylabel('Error')\n",
    "    plt.legend()\n",
    "    plt.show()\n",
    "    \n",
    "def bar_test(year=5, district='4'):\n",
    "    \"\"\"Display the crime data for a given year and district\"\"\"\n",
    "    def bar_crime(data, year):\n",
    "        col = ['homicide', 'robbery','battery', 'assault', 'burglary', 'theft', 'motor', 'weapons']\n",
    "        plt.figure(figsize=(18,25))\n",
    "\n",
    "        for i in range(len(col)):\n",
    "            plt.subplot(4,2,i+1)  \n",
    "            y = data[col[i]][52*(year - 1):52*year]\n",
    "            x = np.arange(len(y))\n",
    "            z = np.polyfit(x, y, 3)\n",
    "\n",
    "            p = np.poly1d(z)\n",
    "            p30 = np.poly1d(np.polyfit(x, y, 15))\n",
    "            xp = np.linspace(0, len(y) - 1, 50)\n",
    "\n",
    "            plt.bar(x, y, color='tan')\n",
    "            _ = plt.plot(xp, p(xp), 'k--', xp, p30(xp), 'b-', lw=2.5)\n",
    "            plt.title(col[i])\n",
    "            plt.xlabel('days (samples)'), plt.ylabel('num crimes') \n",
    "\n",
    "        plt.show() \n",
    "\n",
    "    data = pd.read_csv('../Output/WeeklyOutput/wc'+district+'.csv', sep=',', low_memory=False, \n",
    "                   names = ['date', 'dry', 'wet', 'wind', 'humidity', 'district', 'homicide', 'robbery',\n",
    "                            'battery', 'assault', 'burglary', 'theft', 'motor', 'weapons'])\n",
    "    bar_crime(data, year)\n"
   ]
  },
  {
   "cell_type": "code",
   "execution_count": null,
   "metadata": {},
   "outputs": [],
   "source": [
    "# IMPORT ABOVE FILE\n",
    "\n",
    "%config InlineBackend.figure_format = 'retina'\n",
    "%matplotlib inline"
   ]
  },
  {
   "cell_type": "markdown",
   "metadata": {},
   "source": [
    "# Analysis\n",
    "\n",
    "## - BLAH\n",
    "## - BLAH\n",
    "## - BLAH"
   ]
  },
  {
   "cell_type": "markdown",
   "metadata": {},
   "source": [
    "<img alt=\"\" src=\"data:image/svg+xml;base64,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\"/>"
   ]
  },
  {
   "cell_type": "code",
   "execution_count": null,
   "metadata": {},
   "outputs": [],
   "source": [
    "bar_test(year=4, district='5')"
   ]
  },
  {
   "cell_type": "code",
   "execution_count": null,
   "metadata": {},
   "outputs": [],
   "source": [
    "network_test(district='4')"
   ]
  },
  {
   "cell_type": "markdown",
   "metadata": {},
   "source": [
    "# Results\n",
    "\n",
    "## - BLAH\n",
    "## - BLAH\n",
    "## - BLAH"
   ]
  },
  {
   "cell_type": "markdown",
   "metadata": {},
   "source": [
    "# Application\n",
    "\n",
    "## - BLAH\n",
    "## - BLAH\n",
    "## - BLAH"
   ]
  },
  {
   "cell_type": "code",
   "execution_count": null,
   "metadata": {},
   "outputs": [],
   "source": [
    "save_dill()"
   ]
  },
  {
   "cell_type": "code",
   "execution_count": 1,
   "metadata": {},
   "outputs": [],
   "source": [
    "import dill\n",
    "import numpy as np\n",
    "import pandas as pd\n",
    "\n",
    "fp = open('trained_models.pickle', 'rb')\n",
    "trained_models = dill.load(fp)\n",
    "fp.close()"
   ]
  },
  {
   "cell_type": "code",
   "execution_count": 2,
   "metadata": {},
   "outputs": [
    {
     "name": "stdout",
     "output_type": "stream",
     "text": [
      "district  homicide  robbery  battery  assault  burglary  theft  motor  weapons\n",
      "       1         1       -2       41        1         0     50      6       -1\n",
      "       2         1       16       32        4        32    131     24        0\n",
      "       3         0       11       53       16        29     66     27        2\n",
      "       4         0       15       60       26         3    274     20       -2\n",
      "       5         2       61      140       47        54    192     59       14\n",
      "       6         2       34      150       35        41    122     51        4\n",
      "       7         2       47      199       74        67    193     27       15\n",
      "       8         1        4       44       15         7     44     12        5\n",
      "       9         2       20       92       37        23     78     26        8\n"
     ]
    }
   ],
   "source": [
    "dry_bulb_temp = 30\n",
    "wet_bulb_temp = 28\n",
    "wind_speed = 5\n",
    "relative_humidity = 60\n",
    "\n",
    "data = [dry_bulb_temp, wet_bulb_temp, wind_speed, relative_humidity]\n",
    "trained_models.use(data, return_all=True, district=None)"
   ]
  },
  {
   "cell_type": "markdown",
   "metadata": {},
   "source": [
    "# Challenges\n",
    "\n",
    "## - BLAH\n",
    "## - BLAH\n",
    "## - BLAH"
   ]
  },
  {
   "cell_type": "markdown",
   "metadata": {},
   "source": [
    "# Conclusion\n",
    "\n",
    "## - BLAH\n",
    "## - BLAH\n",
    "## - BLAH"
   ]
  },
  {
   "cell_type": "code",
   "execution_count": null,
   "metadata": {},
   "outputs": [],
   "source": []
  }
 ],
 "metadata": {
  "kernelspec": {
   "display_name": "Python 3",
   "language": "python",
   "name": "python3"
  },
  "language_info": {
   "codemirror_mode": {
    "name": "ipython",
    "version": 3
   },
   "file_extension": ".py",
   "mimetype": "text/x-python",
   "name": "python",
   "nbconvert_exporter": "python",
   "pygments_lexer": "ipython3",
   "version": "3.6.5"
  }
 },
 "nbformat": 4,
 "nbformat_minor": 1
}
